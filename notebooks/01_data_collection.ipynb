{
 "cells": [
  {
   "cell_type": "code",
   "execution_count": 11,
   "metadata": {},
   "outputs": [],
   "source": [
    "import pandas as pd\n",
    "from google_play_scraper import Sort, reviews"
   ]
  },
  {
   "cell_type": "code",
   "execution_count": 13,
   "metadata": {},
   "outputs": [],
   "source": [
    "app_reviews = []\n",
    "\n",
    "def reviews_scraper(app: str, score: int, n_loops: int):\n",
    "    \"\"\"\n",
    "    This is a function to scrape reviews on Google Play Store. Their\n",
    "    GitHub can be found here: https://github.com/JoMingyu/google-play-scraper\n",
    "\n",
    "    ### Arguments\n",
    "    - `app`: the url of the app we want to scrape\n",
    "    - `score`: number of stars rated by users\n",
    "    - `n_loops`: the number of loops to collect reviews in batches of 200\n",
    "\n",
    "    ### Returns\n",
    "    It extends the `app_reviews` list after scraping and prints out the number\n",
    "    of reviews scraped (for progress tracking).\n",
    "    \"\"\"\n",
    "    for sort_order in [Sort.MOST_RELEVANT, Sort.NEWEST]: # Collect both reviews types - 'most relevant' and 'newest'\n",
    "        for i in range(n_loops):\n",
    "            rvs, continuation_token = reviews(\n",
    "                app,\n",
    "                lang='en',\n",
    "                country='my',\n",
    "                sort=sort_order,\n",
    "                count=200, # 200 is the maximum number of reviews per page supported by Google Play\n",
    "                filter_score_with=score,\n",
    "                continuation_token=None if i==0 else continuation_token\n",
    "            ) # To begin crawling from where it last left off\n",
    "\n",
    "            for r in rvs:\n",
    "                r['sort_order'] = 'most_relevant' if sort_order == Sort.MOST_RELEVANT else 'newest'\n",
    "                r['app_id'] = app\n",
    "\n",
    "            app_reviews.extend(rvs)\n",
    "\n",
    "            print('No. of reviews collected: ' + str(len(rvs)))"
   ]
  },
  {
   "cell_type": "code",
   "execution_count": 14,
   "metadata": {},
   "outputs": [
    {
     "name": "stdout",
     "output_type": "stream",
     "text": [
      "No. of reviews collected: 200\n",
      "No. of reviews collected: 200\n",
      "No. of reviews collected: 200\n",
      "No. of reviews collected: 200\n",
      "No. of reviews collected: 200\n",
      "No. of reviews collected: 200\n",
      "No. of reviews collected: 200\n",
      "No. of reviews collected: 200\n",
      "No. of reviews collected: 200\n",
      "No. of reviews collected: 200\n"
     ]
    }
   ],
   "source": [
    "## Collect reviews that were rated 1 star\n",
    "reviews_scraper(app='com.miHoYo.GenshinImpact', score=1, n_loops=5)"
   ]
  },
  {
   "cell_type": "code",
   "execution_count": 15,
   "metadata": {},
   "outputs": [
    {
     "name": "stdout",
     "output_type": "stream",
     "text": [
      "No. of reviews collected: 200\n",
      "No. of reviews collected: 200\n",
      "No. of reviews collected: 200\n",
      "No. of reviews collected: 200\n",
      "No. of reviews collected: 200\n",
      "No. of reviews collected: 200\n",
      "No. of reviews collected: 200\n",
      "No. of reviews collected: 200\n",
      "No. of reviews collected: 200\n",
      "No. of reviews collected: 200\n"
     ]
    }
   ],
   "source": [
    "## Collect reviews that were rated 2 star\n",
    "reviews_scraper(app='com.miHoYo.GenshinImpact', score=2, n_loops=5)"
   ]
  },
  {
   "cell_type": "code",
   "execution_count": 16,
   "metadata": {},
   "outputs": [
    {
     "name": "stdout",
     "output_type": "stream",
     "text": [
      "No. of reviews collected: 200\n",
      "No. of reviews collected: 200\n",
      "No. of reviews collected: 200\n",
      "No. of reviews collected: 200\n",
      "No. of reviews collected: 200\n",
      "No. of reviews collected: 200\n",
      "No. of reviews collected: 200\n",
      "No. of reviews collected: 200\n",
      "No. of reviews collected: 200\n",
      "No. of reviews collected: 200\n"
     ]
    }
   ],
   "source": [
    "## Collect reviews that were rated 3 star\n",
    "reviews_scraper(app='com.miHoYo.GenshinImpact', score=3, n_loops=5)"
   ]
  },
  {
   "cell_type": "code",
   "execution_count": 17,
   "metadata": {},
   "outputs": [
    {
     "name": "stdout",
     "output_type": "stream",
     "text": [
      "No. of reviews collected: 200\n",
      "No. of reviews collected: 200\n",
      "No. of reviews collected: 200\n",
      "No. of reviews collected: 200\n",
      "No. of reviews collected: 200\n",
      "No. of reviews collected: 200\n",
      "No. of reviews collected: 200\n",
      "No. of reviews collected: 200\n",
      "No. of reviews collected: 200\n",
      "No. of reviews collected: 200\n"
     ]
    }
   ],
   "source": [
    "## Collect reviews that were rated 4 star\n",
    "reviews_scraper(app='com.miHoYo.GenshinImpact', score=4, n_loops=5)"
   ]
  },
  {
   "cell_type": "code",
   "execution_count": 18,
   "metadata": {},
   "outputs": [
    {
     "name": "stdout",
     "output_type": "stream",
     "text": [
      "No. of reviews collected: 200\n",
      "No. of reviews collected: 200\n",
      "No. of reviews collected: 200\n",
      "No. of reviews collected: 200\n",
      "No. of reviews collected: 200\n",
      "No. of reviews collected: 200\n",
      "No. of reviews collected: 200\n",
      "No. of reviews collected: 200\n",
      "No. of reviews collected: 200\n",
      "No. of reviews collected: 200\n"
     ]
    }
   ],
   "source": [
    "## Collect reviews that were rated 5 star\n",
    "reviews_scraper(app='com.miHoYo.GenshinImpact', score=5, n_loops=5)"
   ]
  },
  {
   "cell_type": "code",
   "execution_count": 30,
   "metadata": {},
   "outputs": [
    {
     "data": {
      "text/plain": [
       "{'reviewId': '6310ac74-b6a1-46af-9973-dfdb1e297915',\n",
       " 'userName': 'Joan Teo (Sora)',\n",
       " 'userImage': 'https://play-lh.googleusercontent.com/a-/ALV-UjXwQT3M0thCmsrZgJcy5DSqwUjwcAL5ZdmfruPe8c_G0H2fjtT46A',\n",
       " 'content': \"overall the graphics, the lore, the characters' design, the overworld, everything is so beautiful to explore. been playing this game for 4 years but nowadays, i cant help but keep noticing patterns of hoyoverse's contstant colorism and cultural appropriations. this happened in the 4 major hit games such as this, hi3rd, h:sr and even the new game, zzz. this is genuinely concerning as a person of colour who is a minority that also studies world history and culture.\",\n",
       " 'score': 2,\n",
       " 'thumbsUpCount': 0,\n",
       " 'reviewCreatedVersion': '3.2.0_10872902_11078128',\n",
       " 'at': datetime.datetime(2024, 7, 15, 1, 58, 31),\n",
       " 'replyContent': None,\n",
       " 'repliedAt': None,\n",
       " 'appVersion': '3.2.0_10872902_11078128',\n",
       " 'sort_order': 'most_relevant',\n",
       " 'app_id': 'com.miHoYo.GenshinImpact'}"
      ]
     },
     "execution_count": 30,
     "metadata": {},
     "output_type": "execute_result"
    }
   ],
   "source": [
    "# sample\n",
    "app_reviews[2000]"
   ]
  },
  {
   "cell_type": "code",
   "execution_count": 33,
   "metadata": {},
   "outputs": [],
   "source": [
    "df_temp = pd.DataFrame(app_reviews)"
   ]
  },
  {
   "cell_type": "code",
   "execution_count": 37,
   "metadata": {},
   "outputs": [
    {
     "data": {
      "text/plain": [
       "False    8832\n",
       "True     1168\n",
       "Name: count, dtype: int64"
      ]
     },
     "execution_count": 37,
     "metadata": {},
     "output_type": "execute_result"
    }
   ],
   "source": [
    "# check for duplicates\n",
    "df_temp.duplicated(subset=['reviewId']).value_counts()"
   ]
  },
  {
   "cell_type": "code",
   "execution_count": 39,
   "metadata": {},
   "outputs": [],
   "source": [
    "df_final = df_temp.copy()\n",
    "\n",
    "df_final.drop_duplicates(subset=['reviewId'], keep='first', inplace=True, ignore_index=True)"
   ]
  },
  {
   "cell_type": "code",
   "execution_count": 40,
   "metadata": {},
   "outputs": [
    {
     "data": {
      "text/plain": [
       "False    8832\n",
       "Name: count, dtype: int64"
      ]
     },
     "execution_count": 40,
     "metadata": {},
     "output_type": "execute_result"
    }
   ],
   "source": [
    "# final check\n",
    "df_final.duplicated(subset=['reviewId']).value_counts()"
   ]
  },
  {
   "cell_type": "code",
   "execution_count": 42,
   "metadata": {},
   "outputs": [],
   "source": [
    "# Save reviews to csv file\n",
    "df_final.to_csv('../data/genshin_impact_reviews.csv', index=False)"
   ]
  },
  {
   "cell_type": "code",
   "execution_count": 43,
   "metadata": {},
   "outputs": [],
   "source": [
    "# Read in shopee csv file \n",
    "# Datetime parsing for 'at' and 'repliedAt' columns\n",
    "reviews = pd.read_csv('../data/genshin_impact_reviews.csv', parse_dates=['at','repliedAt'])"
   ]
  },
  {
   "cell_type": "markdown",
   "metadata": {},
   "source": [
    "### 2.0 Simple Exploratory Data Analysis"
   ]
  },
  {
   "cell_type": "code",
   "execution_count": 44,
   "metadata": {},
   "outputs": [
    {
     "name": "stdout",
     "output_type": "stream",
     "text": [
      "<class 'pandas.core.frame.DataFrame'>\n",
      "RangeIndex: 8832 entries, 0 to 8831\n",
      "Data columns (total 13 columns):\n",
      " #   Column                Non-Null Count  Dtype         \n",
      "---  ------                --------------  -----         \n",
      " 0   reviewId              8832 non-null   object        \n",
      " 1   userName              8832 non-null   object        \n",
      " 2   userImage             8832 non-null   object        \n",
      " 3   content               8832 non-null   object        \n",
      " 4   score                 8832 non-null   int64         \n",
      " 5   thumbsUpCount         8832 non-null   int64         \n",
      " 6   reviewCreatedVersion  6421 non-null   object        \n",
      " 7   at                    8832 non-null   datetime64[ns]\n",
      " 8   replyContent          1140 non-null   object        \n",
      " 9   repliedAt             1140 non-null   datetime64[ns]\n",
      " 10  appVersion            6421 non-null   object        \n",
      " 11  sort_order            8832 non-null   object        \n",
      " 12  app_id                8832 non-null   object        \n",
      "dtypes: datetime64[ns](2), int64(2), object(9)\n",
      "memory usage: 897.1+ KB\n"
     ]
    }
   ],
   "source": [
    "# Some null values in app version, developer replies and review created version\n",
    "reviews.info()"
   ]
  },
  {
   "cell_type": "code",
   "execution_count": 45,
   "metadata": {},
   "outputs": [
    {
     "data": {
      "text/html": [
       "<div>\n",
       "<style scoped>\n",
       "    .dataframe tbody tr th:only-of-type {\n",
       "        vertical-align: middle;\n",
       "    }\n",
       "\n",
       "    .dataframe tbody tr th {\n",
       "        vertical-align: top;\n",
       "    }\n",
       "\n",
       "    .dataframe thead th {\n",
       "        text-align: right;\n",
       "    }\n",
       "</style>\n",
       "<table border=\"1\" class=\"dataframe\">\n",
       "  <thead>\n",
       "    <tr style=\"text-align: right;\">\n",
       "      <th></th>\n",
       "      <th>reviewId</th>\n",
       "      <th>userName</th>\n",
       "      <th>userImage</th>\n",
       "      <th>content</th>\n",
       "      <th>score</th>\n",
       "      <th>thumbsUpCount</th>\n",
       "      <th>reviewCreatedVersion</th>\n",
       "      <th>at</th>\n",
       "      <th>replyContent</th>\n",
       "      <th>repliedAt</th>\n",
       "      <th>appVersion</th>\n",
       "      <th>sort_order</th>\n",
       "      <th>app_id</th>\n",
       "    </tr>\n",
       "  </thead>\n",
       "  <tbody>\n",
       "    <tr>\n",
       "      <th>0</th>\n",
       "      <td>12b832b8-a76a-4292-a916-cbda39384153</td>\n",
       "      <td>BAI Li</td>\n",
       "      <td>https://play-lh.googleusercontent.com/a-/ALV-U...</td>\n",
       "      <td>I've been playing this game for about two year...</td>\n",
       "      <td>1</td>\n",
       "      <td>277</td>\n",
       "      <td>5.0.0_26041933_26161852</td>\n",
       "      <td>2024-09-29 18:04:07</td>\n",
       "      <td>We sincerely apologize for your unsatisfactory...</td>\n",
       "      <td>2024-09-30 16:43:34</td>\n",
       "      <td>5.0.0_26041933_26161852</td>\n",
       "      <td>most_relevant</td>\n",
       "      <td>com.miHoYo.GenshinImpact</td>\n",
       "    </tr>\n",
       "    <tr>\n",
       "      <th>1</th>\n",
       "      <td>106b7231-3a41-454e-812b-6307445ed11a</td>\n",
       "      <td>ami amin</td>\n",
       "      <td>https://play-lh.googleusercontent.com/a-/ALV-U...</td>\n",
       "      <td>I was really looking forward to playing this g...</td>\n",
       "      <td>1</td>\n",
       "      <td>18</td>\n",
       "      <td>5.0.0_26041933_26161852</td>\n",
       "      <td>2024-09-29 09:55:17</td>\n",
       "      <td>NaN</td>\n",
       "      <td>NaT</td>\n",
       "      <td>5.0.0_26041933_26161852</td>\n",
       "      <td>most_relevant</td>\n",
       "      <td>com.miHoYo.GenshinImpact</td>\n",
       "    </tr>\n",
       "    <tr>\n",
       "      <th>2</th>\n",
       "      <td>7f339f1c-a3ac-46ab-95b1-7a2991476824</td>\n",
       "      <td>Tahlia Tucker</td>\n",
       "      <td>https://play-lh.googleusercontent.com/a-/ALV-U...</td>\n",
       "      <td>The rating I could just give is a 1 since I ca...</td>\n",
       "      <td>1</td>\n",
       "      <td>17</td>\n",
       "      <td>5.0.0_26041933_26161852</td>\n",
       "      <td>2024-09-19 06:09:10</td>\n",
       "      <td>We sincerely apologize for your unsatisfactory...</td>\n",
       "      <td>2024-09-25 19:04:25</td>\n",
       "      <td>5.0.0_26041933_26161852</td>\n",
       "      <td>most_relevant</td>\n",
       "      <td>com.miHoYo.GenshinImpact</td>\n",
       "    </tr>\n",
       "    <tr>\n",
       "      <th>3</th>\n",
       "      <td>8f3659ca-da32-4350-ac17-dc78e0670766</td>\n",
       "      <td>liza</td>\n",
       "      <td>https://play-lh.googleusercontent.com/a/ACg8oc...</td>\n",
       "      <td>The games good, yes but for some reason it's l...</td>\n",
       "      <td>1</td>\n",
       "      <td>186</td>\n",
       "      <td>5.1.0_27118081_27297621</td>\n",
       "      <td>2024-10-12 18:34:11</td>\n",
       "      <td>We sincerely apologize for your unsatisfactory...</td>\n",
       "      <td>2024-10-21 18:32:10</td>\n",
       "      <td>5.1.0_27118081_27297621</td>\n",
       "      <td>most_relevant</td>\n",
       "      <td>com.miHoYo.GenshinImpact</td>\n",
       "    </tr>\n",
       "    <tr>\n",
       "      <th>4</th>\n",
       "      <td>8b2bc51b-97b5-4b41-affe-8957d8772924</td>\n",
       "      <td>Mustapha Seven</td>\n",
       "      <td>https://play-lh.googleusercontent.com/a-/ALV-U...</td>\n",
       "      <td>The game, the story and graphics are Very good...</td>\n",
       "      <td>1</td>\n",
       "      <td>235</td>\n",
       "      <td>5.1.0_27118081_27297621</td>\n",
       "      <td>2024-10-22 06:25:56</td>\n",
       "      <td>NaN</td>\n",
       "      <td>NaT</td>\n",
       "      <td>5.1.0_27118081_27297621</td>\n",
       "      <td>most_relevant</td>\n",
       "      <td>com.miHoYo.GenshinImpact</td>\n",
       "    </tr>\n",
       "  </tbody>\n",
       "</table>\n",
       "</div>"
      ],
      "text/plain": [
       "                               reviewId        userName  \\\n",
       "0  12b832b8-a76a-4292-a916-cbda39384153          BAI Li   \n",
       "1  106b7231-3a41-454e-812b-6307445ed11a        ami amin   \n",
       "2  7f339f1c-a3ac-46ab-95b1-7a2991476824   Tahlia Tucker   \n",
       "3  8f3659ca-da32-4350-ac17-dc78e0670766            liza   \n",
       "4  8b2bc51b-97b5-4b41-affe-8957d8772924  Mustapha Seven   \n",
       "\n",
       "                                           userImage  \\\n",
       "0  https://play-lh.googleusercontent.com/a-/ALV-U...   \n",
       "1  https://play-lh.googleusercontent.com/a-/ALV-U...   \n",
       "2  https://play-lh.googleusercontent.com/a-/ALV-U...   \n",
       "3  https://play-lh.googleusercontent.com/a/ACg8oc...   \n",
       "4  https://play-lh.googleusercontent.com/a-/ALV-U...   \n",
       "\n",
       "                                             content  score  thumbsUpCount  \\\n",
       "0  I've been playing this game for about two year...      1            277   \n",
       "1  I was really looking forward to playing this g...      1             18   \n",
       "2  The rating I could just give is a 1 since I ca...      1             17   \n",
       "3  The games good, yes but for some reason it's l...      1            186   \n",
       "4  The game, the story and graphics are Very good...      1            235   \n",
       "\n",
       "      reviewCreatedVersion                  at  \\\n",
       "0  5.0.0_26041933_26161852 2024-09-29 18:04:07   \n",
       "1  5.0.0_26041933_26161852 2024-09-29 09:55:17   \n",
       "2  5.0.0_26041933_26161852 2024-09-19 06:09:10   \n",
       "3  5.1.0_27118081_27297621 2024-10-12 18:34:11   \n",
       "4  5.1.0_27118081_27297621 2024-10-22 06:25:56   \n",
       "\n",
       "                                        replyContent           repliedAt  \\\n",
       "0  We sincerely apologize for your unsatisfactory... 2024-09-30 16:43:34   \n",
       "1                                                NaN                 NaT   \n",
       "2  We sincerely apologize for your unsatisfactory... 2024-09-25 19:04:25   \n",
       "3  We sincerely apologize for your unsatisfactory... 2024-10-21 18:32:10   \n",
       "4                                                NaN                 NaT   \n",
       "\n",
       "                appVersion     sort_order                    app_id  \n",
       "0  5.0.0_26041933_26161852  most_relevant  com.miHoYo.GenshinImpact  \n",
       "1  5.0.0_26041933_26161852  most_relevant  com.miHoYo.GenshinImpact  \n",
       "2  5.0.0_26041933_26161852  most_relevant  com.miHoYo.GenshinImpact  \n",
       "3  5.1.0_27118081_27297621  most_relevant  com.miHoYo.GenshinImpact  \n",
       "4  5.1.0_27118081_27297621  most_relevant  com.miHoYo.GenshinImpact  "
      ]
     },
     "execution_count": 45,
     "metadata": {},
     "output_type": "execute_result"
    }
   ],
   "source": [
    "reviews.head(5)"
   ]
  },
  {
   "cell_type": "code",
   "execution_count": 46,
   "metadata": {},
   "outputs": [
    {
     "data": {
      "text/html": [
       "<div>\n",
       "<style scoped>\n",
       "    .dataframe tbody tr th:only-of-type {\n",
       "        vertical-align: middle;\n",
       "    }\n",
       "\n",
       "    .dataframe tbody tr th {\n",
       "        vertical-align: top;\n",
       "    }\n",
       "\n",
       "    .dataframe thead th {\n",
       "        text-align: right;\n",
       "    }\n",
       "</style>\n",
       "<table border=\"1\" class=\"dataframe\">\n",
       "  <thead>\n",
       "    <tr style=\"text-align: right;\">\n",
       "      <th></th>\n",
       "      <th>score</th>\n",
       "      <th>thumbsUpCount</th>\n",
       "      <th>at</th>\n",
       "      <th>repliedAt</th>\n",
       "    </tr>\n",
       "  </thead>\n",
       "  <tbody>\n",
       "    <tr>\n",
       "      <th>count</th>\n",
       "      <td>8832.000000</td>\n",
       "      <td>8832.000000</td>\n",
       "      <td>8832</td>\n",
       "      <td>1140</td>\n",
       "    </tr>\n",
       "    <tr>\n",
       "      <th>mean</th>\n",
       "      <td>3.029212</td>\n",
       "      <td>20.254416</td>\n",
       "      <td>2024-02-17 12:45:34.339560704</td>\n",
       "      <td>2023-12-23 18:24:07.917543680</td>\n",
       "    </tr>\n",
       "    <tr>\n",
       "      <th>min</th>\n",
       "      <td>1.000000</td>\n",
       "      <td>0.000000</td>\n",
       "      <td>2020-09-28 07:11:26</td>\n",
       "      <td>2021-03-04 09:34:25</td>\n",
       "    </tr>\n",
       "    <tr>\n",
       "      <th>25%</th>\n",
       "      <td>2.000000</td>\n",
       "      <td>0.000000</td>\n",
       "      <td>2024-07-02 02:29:09.249999872</td>\n",
       "      <td>2023-01-26 21:42:28.249999872</td>\n",
       "    </tr>\n",
       "    <tr>\n",
       "      <th>50%</th>\n",
       "      <td>3.000000</td>\n",
       "      <td>1.000000</td>\n",
       "      <td>2024-08-29 16:50:57.500000</td>\n",
       "      <td>2024-09-09 08:53:52.500000</td>\n",
       "    </tr>\n",
       "    <tr>\n",
       "      <th>75%</th>\n",
       "      <td>4.000000</td>\n",
       "      <td>3.000000</td>\n",
       "      <td>2024-10-09 21:38:02.249999872</td>\n",
       "      <td>2024-10-22 11:11:30.249999872</td>\n",
       "    </tr>\n",
       "    <tr>\n",
       "      <th>max</th>\n",
       "      <td>5.000000</td>\n",
       "      <td>4511.000000</td>\n",
       "      <td>2024-10-28 06:15:33</td>\n",
       "      <td>2024-10-24 14:21:35</td>\n",
       "    </tr>\n",
       "    <tr>\n",
       "      <th>std</th>\n",
       "      <td>1.439469</td>\n",
       "      <td>136.425683</td>\n",
       "      <td>NaN</td>\n",
       "      <td>NaN</td>\n",
       "    </tr>\n",
       "  </tbody>\n",
       "</table>\n",
       "</div>"
      ],
      "text/plain": [
       "             score  thumbsUpCount                             at  \\\n",
       "count  8832.000000    8832.000000                           8832   \n",
       "mean      3.029212      20.254416  2024-02-17 12:45:34.339560704   \n",
       "min       1.000000       0.000000            2020-09-28 07:11:26   \n",
       "25%       2.000000       0.000000  2024-07-02 02:29:09.249999872   \n",
       "50%       3.000000       1.000000     2024-08-29 16:50:57.500000   \n",
       "75%       4.000000       3.000000  2024-10-09 21:38:02.249999872   \n",
       "max       5.000000    4511.000000            2024-10-28 06:15:33   \n",
       "std       1.439469     136.425683                            NaN   \n",
       "\n",
       "                           repliedAt  \n",
       "count                           1140  \n",
       "mean   2023-12-23 18:24:07.917543680  \n",
       "min              2021-03-04 09:34:25  \n",
       "25%    2023-01-26 21:42:28.249999872  \n",
       "50%       2024-09-09 08:53:52.500000  \n",
       "75%    2024-10-22 11:11:30.249999872  \n",
       "max              2024-10-24 14:21:35  \n",
       "std                              NaN  "
      ]
     },
     "execution_count": 46,
     "metadata": {},
     "output_type": "execute_result"
    }
   ],
   "source": [
    "# Summary statistics for numerical variables\n",
    "reviews.describe()"
   ]
  },
  {
   "cell_type": "code",
   "execution_count": 47,
   "metadata": {},
   "outputs": [
    {
     "data": {
      "text/plain": [
       "score\n",
       "1    1825\n",
       "2    1644\n",
       "3    1716\n",
       "4    1742\n",
       "5    1905\n",
       "Name: count, dtype: int64"
      ]
     },
     "execution_count": 47,
     "metadata": {},
     "output_type": "execute_result"
    }
   ],
   "source": [
    "# Check how many reviews were retrieved from each score\n",
    "reviews['score'].value_counts().sort_index()"
   ]
  }
 ],
 "metadata": {
  "kernelspec": {
   "display_name": "venv",
   "language": "python",
   "name": "python3"
  },
  "language_info": {
   "codemirror_mode": {
    "name": "ipython",
    "version": 3
   },
   "file_extension": ".py",
   "mimetype": "text/x-python",
   "name": "python",
   "nbconvert_exporter": "python",
   "pygments_lexer": "ipython3",
   "version": "3.11.0"
  }
 },
 "nbformat": 4,
 "nbformat_minor": 2
}
